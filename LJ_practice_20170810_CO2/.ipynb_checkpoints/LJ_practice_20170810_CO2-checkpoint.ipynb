{
 "cells": [
  {
   "cell_type": "code",
   "execution_count": 2,
   "metadata": {
    "collapsed": false
   },
   "outputs": [
    {
     "name": "stdout",
     "output_type": "stream",
     "text": [
      "ab\n"
     ]
    }
   ],
   "source": [
    "import numpy as np\n",
    "import scipy as sp\n",
    "import scipy.io as sio\n",
    "from scipy import ndimage\n",
    "import scipy.stats\n",
    "import matplotlib.pyplot as plt\n",
    "from matplotlib_scalebar.scalebar import ScaleBar\n",
    "import nipy\n",
    "import nibabel #For various neuroimaging filetypes\n",
    "from nibabel.analyze import load #load the image\n",
    "from nipy import save_image\n",
    "from nipy import load_image\n",
    "import matlab.engine\n",
    "import os.path\n",
    "\n",
    "#from pCASL import mPLD_fitParkes, Parkes_fits, mPLD_getParams\n",
    "\n",
    "%matplotlib inline\n",
    "print(\"ab\")"
   ]
  },
  {
   "cell_type": "code",
   "execution_count": 4,
   "metadata": {
    "collapsed": true
   },
   "outputs": [],
   "source": [
    "f_base = '20170810_143430_ljoo_mouse_20170810_01_1_2_'\n",
    "Mouse_ID = 'prac'\n",
    "T2_num = '26'\n",
    "CO2_num = '26'"
   ]
  },
  {
   "cell_type": "code",
   "execution_count": 5,
   "metadata": {
    "collapsed": false
   },
   "outputs": [],
   "source": [
    "CO2 = np.squeeze(np.array(nibabel.analyze.load(f_base+CO2_num+'.hdr').get_data()[:,:,:,:]))"
   ]
  },
  {
   "cell_type": "code",
   "execution_count": 6,
   "metadata": {
    "collapsed": true
   },
   "outputs": [],
   "source": [
    "dim1 = np.shape(CO2)[0]\n",
    "dim2 = np.shape(CO2)[1]\n",
    "nslices = 1\n",
    "nframes = np.shape(CO2)[2]"
   ]
  },
  {
   "cell_type": "markdown",
   "metadata": {},
   "source": [
    "### Masking data"
   ]
  },
  {
   "cell_type": "code",
   "execution_count": 7,
   "metadata": {
    "collapsed": false
   },
   "outputs": [
    {
     "data": {
      "text/plain": [
       "{'CLICOLOR': '1',\n",
       " 'COLORTERM': 'gnome-terminal',\n",
       " 'CONDA_DEFAULT_ENV': 'py34',\n",
       " 'CONDA_PATH_BACKUP': '/home16/isjoo/anaconda3/bin:/lib64/libc.so.6:/bin:/usr/bin:/usr/local/bin:/home16/isjoo:/home16/isjoo/bin:/usr/X11R6/bin:/uxapps/MATLAB/2008b/bin:/usr/local/bic/bin:/home16/isjoo/.wine/drive_c/Program:Files/Internet:Explorer/:/bin:/software/bin:/usr/bin:/usr/local/bin:/home16/isjoo:/home16/isjoo/bin:/usr/X11R6/bin:/uxapps/MATLAB/2008b/bin:/usr/local/bic/bin:/home16/isjoo/.wine/drive_c/Program:Files/Internet:Explorer/:/usr/local/abin:/usr/local/abin:/bin:/usr/bin:/usr/local/bin:/home16/isjoo:/home16/isjoo/bin:/usr/X11R6/bin:/uxapps/MATLAB/2008b/bin:/usr/local/bic/bin:/home16/isjoo/.wine/drive_c/Program:Files/Internet:Explorer/:/usr/local/abin:/usr/local/abin:/opt/Slicer3.3.6.2:/lib64/libc.so.6:/usr/lib:/usr/local/lib:/usr/X11R6/lib:/uxapps/MATLAB/2008b/bin/util/oscheck.sh:/bin:/usr/bin:/usr/local/bin:/home16/isjoo:/home16/isjoo/bin:/usr/X11R6/bin:/uxapps/MATLAB/2008b/bin:/usr/local/bic/bin:/home16/isjoo/.wine/drive_c/Program:Files/Internet:Explorer/:/bin:/software/bin:/usr/bin:/usr/local/bin:/home16/isjoo:/home16/isjoo/bin:/usr/X11R6/bin:/uxapps/MATLAB/2008b/bin:/usr/local/bic/bin:/home16/isjoo/.wine/drive_c/Program:Files/Internet:Explorer/:/usr/local/abin:/usr/local/abin:/bin:/usr/bin:/usr/local/bin:/home16/isjoo:/home16/isjoo/bin:/usr/X11R6/bin:/uxapps/MATLAB/2008b/bin:/usr/local/bic/bin:/home16/isjoo/.wine/drive_c/Program:Files/Internet:Explorer/:/usr/local/abin:/usr/local/abin:/opt/Slicer3.3.6.2',\n",
       " 'CONDA_PREFIX': '/home16/isjoo/anaconda3/envs/py34',\n",
       " 'CONDA_PS1_BACKUP': '${debian_chroot:+($debian_chroot)}\\\\u@\\\\h:\\\\w\\\\$ ',\n",
       " 'DBUS_SESSION_BUS_ADDRESS': 'unix:abstract=/tmp/dbus-48GJAbYhyW,guid=aef3024f7be780b89f1c57b1000000ff',\n",
       " 'DEFAULTS_PATH': '/usr/share/gconf/ubuntu-2d.default.path',\n",
       " 'DESKTOP_SESSION': 'ubuntu-2d',\n",
       " 'DISPLAY': ':0.0',\n",
       " 'GDMSESSION': 'ubuntu-2d',\n",
       " 'GIT_PAGER': 'cat',\n",
       " 'GNOME_DESKTOP_SESSION_ID': 'this-is-deprecated',\n",
       " 'GNOME_KEYRING_CONTROL': '/tmp/keyring-neQwki',\n",
       " 'GNOME_KEYRING_PID': '2014',\n",
       " 'GPG_AGENT_INFO': '/tmp/keyring-neQwki/gpg:0:1',\n",
       " 'GROUP': 'bosgrp',\n",
       " 'HOME': '/home16/isjoo',\n",
       " 'HOST': 'fornix.sri.utoronto.ca',\n",
       " 'HOSTTYPE': 'x86_64-linux',\n",
       " 'IDBNAME': '/usr/crd/data',\n",
       " 'JPY_PARENT_PID': '24647',\n",
       " 'LANG': 'en_CA.UTF-8',\n",
       " 'LANGUAGE': 'en_CA:en',\n",
       " 'LC_ADDRESS': 'en_CA.UTF-8',\n",
       " 'LC_IDENTIFICATION': 'en_CA.UTF-8',\n",
       " 'LC_MEASUREMENT': 'en_CA.UTF-8',\n",
       " 'LC_MONETARY': 'en_CA.UTF-8',\n",
       " 'LC_NAME': 'en_CA.UTF-8',\n",
       " 'LC_NUMERIC': 'en_CA.UTF-8',\n",
       " 'LC_PAPER': 'en_CA.UTF-8',\n",
       " 'LC_TELEPHONE': 'en_CA.UTF-8',\n",
       " 'LC_TIME': 'en_CA.UTF-8',\n",
       " 'LD_LIBRARY_PATH': '/lib64/libc.so.6:/usr/lib:/usr/local/lib:/usr/X11R6/lib:/uxapps/MATLAB/2008b/bin/util/oscheck.sh:/usr/lib:/usr/local/lib:/usr/X11R6/lib:/uxapps/MATLAB/2008b/bin/matlab:/usr/lib:/usr/local/lib:/usr/X11R6/lib:/software/lib:/usr/lib:/usr/local/lib:/usr/X11R6/lib:/usr/lib:/usr/local/lib:/usr/X11R6/lib',\n",
       " 'LOGNAME': 'isjoo',\n",
       " 'MACHTYPE': 'x86_64',\n",
       " 'MANDATORY_PATH': '/usr/share/gconf/ubuntu-2d.mandatory.path',\n",
       " 'MANPATH': '/usr/man:/usr/share/man:/usr/local/man:/usr/share/man:/usr/local/share/man:/usr/X11R6/man',\n",
       " 'MATLAB': '/uxapps/MATLAB/2008b',\n",
       " 'MPLBACKEND': 'module://ipykernel.pylab.backend_inline',\n",
       " 'OLDPWD': '/usr/local/MATLAB/R2016a/extern/engines/python',\n",
       " 'OSNAME': 'Linux',\n",
       " 'OSREL': 'Linux 3',\n",
       " 'OSRELNUM': '3',\n",
       " 'OSTYPE': 'linux',\n",
       " 'PAGER': 'cat',\n",
       " 'PATH': '/home16/isjoo/anaconda3/envs/py34/bin:/home16/isjoo/anaconda3/envs/py34/bin:/home16/isjoo/anaconda3/bin:/lib64/libc.so.6:/bin:/usr/bin:/usr/local/bin:/home16/isjoo:/home16/isjoo/bin:/usr/X11R6/bin:/uxapps/MATLAB/2008b/bin:/usr/local/bic/bin:/home16/isjoo/.wine/drive_c/Program:Files/Internet:Explorer/:/bin:/software/bin:/usr/bin:/usr/local/bin:/home16/isjoo:/home16/isjoo/bin:/usr/X11R6/bin:/uxapps/MATLAB/2008b/bin:/usr/local/bic/bin:/home16/isjoo/.wine/drive_c/Program:Files/Internet:Explorer/:/usr/local/abin:/usr/local/abin:/bin:/usr/bin:/usr/local/bin:/home16/isjoo:/home16/isjoo/bin:/usr/X11R6/bin:/uxapps/MATLAB/2008b/bin:/usr/local/bic/bin:/home16/isjoo/.wine/drive_c/Program:Files/Internet:Explorer/:/usr/local/abin:/usr/local/abin:/opt/Slicer3.3.6.2:/lib64/libc.so.6:/usr/lib:/usr/local/lib:/usr/X11R6/lib:/uxapps/MATLAB/2008b/bin/util/oscheck.sh:/bin:/usr/bin:/usr/local/bin:/home16/isjoo:/home16/isjoo/bin:/usr/X11R6/bin:/uxapps/MATLAB/2008b/bin:/usr/local/bic/bin:/home16/isjoo/.wine/drive_c/Program:Files/Internet:Explorer/:/bin:/software/bin:/usr/bin:/usr/local/bin:/home16/isjoo:/home16/isjoo/bin:/usr/X11R6/bin:/uxapps/MATLAB/2008b/bin:/usr/local/bic/bin:/home16/isjoo/.wine/drive_c/Program:Files/Internet:Explorer/:/usr/local/abin:/usr/local/abin:/bin:/usr/bin:/usr/local/bin:/home16/isjoo:/home16/isjoo/bin:/usr/X11R6/bin:/uxapps/MATLAB/2008b/bin:/usr/local/bic/bin:/home16/isjoo/.wine/drive_c/Program:Files/Internet:Explorer/:/usr/local/abin:/usr/local/abin:/opt/Slicer3.3.6.2',\n",
       " 'PS1': '(py34) ${debian_chroot:+($debian_chroot)}\\\\u@\\\\h:\\\\w\\\\$ ',\n",
       " 'PWD': '/home16/isjoo/Dropbox/Stem2/analysis/MR',\n",
       " 'SESSION_MANAGER': 'local/fornix.sri.utoronto.ca:@/tmp/.ICE-unix/2025,unix/fornix.sri.utoronto.ca:/tmp/.ICE-unix/2025',\n",
       " 'SHELL': '/bin/tcsh',\n",
       " 'SHLVL': '2',\n",
       " 'SSH_AGENT_PID': '2060',\n",
       " 'SSH_AUTH_SOCK': '/tmp/keyring-neQwki/ssh',\n",
       " 'SYNCHROPATH': '/srutility/synchronize',\n",
       " 'TERM': 'xterm-color',\n",
       " 'UBUNTU_MENUPROXY': 'libappmenu.so',\n",
       " 'USER': 'isjoo',\n",
       " 'VENDOR': 'unknown',\n",
       " 'WINDOWID': '56623110',\n",
       " 'XAUTHORITY': '/home16/isjoo/.Xauthority',\n",
       " 'XDG_CONFIG_DIRS': '/etc/xdg/xdg-ubuntu-2d:/etc/xdg',\n",
       " 'XDG_CURRENT_DESKTOP': 'Unity',\n",
       " 'XDG_DATA_DIRS': '/usr/share/ubuntu-2d:/usr/share/gnome:/usr/local/share/:/usr/share/',\n",
       " 'XDG_SEAT_PATH': '/org/freedesktop/DisplayManager/Seat0',\n",
       " 'XDG_SESSION_COOKIE': '4381ef98840cff5aa8229a1f00000007-1504616194.10818-1009479068',\n",
       " 'XDG_SESSION_PATH': '/org/freedesktop/DisplayManager/Session0',\n",
       " '_': '/home16/isjoo/anaconda3/envs/py34/bin/jupyter'}"
      ]
     },
     "execution_count": 7,
     "metadata": {},
     "output_type": "execute_result"
    }
   ],
   "source": []
  }
 ],
 "metadata": {
  "kernelspec": {
   "display_name": "Python 3",
   "language": "python",
   "name": "python3"
  },
  "language_info": {
   "codemirror_mode": {
    "name": "ipython",
    "version": 3
   },
   "file_extension": ".py",
   "mimetype": "text/x-python",
   "name": "python",
   "nbconvert_exporter": "python",
   "pygments_lexer": "ipython3",
   "version": "3.4.5"
  }
 },
 "nbformat": 4,
 "nbformat_minor": 2
}
