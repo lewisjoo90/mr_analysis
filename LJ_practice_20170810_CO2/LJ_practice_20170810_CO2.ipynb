{
 "cells": [
  {
   "cell_type": "code",
   "execution_count": 12,
   "metadata": {
    "collapsed": false
   },
   "outputs": [
    {
     "name": "stdout",
     "output_type": "stream",
     "text": [
      "ab\n"
     ]
    }
   ],
   "source": [
    "import numpy as np\n",
    "import scipy as sp\n",
    "import scipy.io as sio\n",
    "from scipy import ndimage\n",
    "import scipy.stats\n",
    "import matplotlib.pyplot as plt\n",
    "from matplotlib_scalebar.scalebar import ScaleBar\n",
    "import nipy\n",
    "import nibabel #For various neuroimaging filetypes\n",
    "from nibabel.analyze import load #load the image\n",
    "from nipy import save_image\n",
    "from nipy import load_image\n",
    "import matlab.engine\n",
    "import os.path\n",
    "\n",
    "#from pCASL import mPLD_fitParkes, Parkes_fits, mPLD_getParams\n",
    "\n",
    "%matplotlib inline\n",
    "print(\"ab\")"
   ]
  },
  {
   "cell_type": "code",
   "execution_count": 13,
   "metadata": {
    "collapsed": true
   },
   "outputs": [],
   "source": [
    "f_base = '20170810_143430_ljoo_mouse_20170810_01_1_2_'\n",
    "Mouse_ID = 'prac'\n",
    "T2_num = '26'\n",
    "CO2_num = '26'"
   ]
  },
  {
   "cell_type": "code",
   "execution_count": 14,
   "metadata": {
    "collapsed": true
   },
   "outputs": [],
   "source": [
    "CO2 = np.squeeze(np.array(nibabel.analyze.load(f_base+CO2_num+'.hdr').get_data()[:,:,:,:]))"
   ]
  },
  {
   "cell_type": "code",
   "execution_count": 15,
   "metadata": {
    "collapsed": true
   },
   "outputs": [],
   "source": [
    "dim1 = np.shape(CO2)[0]\n",
    "dim2 = np.shape(CO2)[1]\n",
    "nslices = 1\n",
    "nframes = np.shape(CO2)[2]"
   ]
  },
  {
   "cell_type": "markdown",
   "metadata": {},
   "source": [
    "### Masking data"
   ]
  },
  {
   "cell_type": "code",
   "execution_count": 6,
   "metadata": {
    "collapsed": true
   },
   "outputs": [],
   "source": [
    "# if a mask already exists,\n",
    "if os.path.exists(Mouse_ID+'_m0_CO2.nii') == True:\n",
    "    from nipy.labs.mask import compute_mask\n",
    "    from nipy.core.api import Image, vox2mni\n",
    "    \n",
    "    m=0.35#35\n",
    "    M=0.875#875\n",
    "    PLD_masks = np.zeros([dim1,dim2])\n",
    "    #for i in range(0,nPLDs):\n",
    "    EPI_in = CO2\n",
    "    mean_exp1 = np.zeros([dim1,dim2,1])#take the mean of all EPI's to generate 'mean_volume'\n",
    "    mean_exp1[:,:,0]=np.mean(EPI_in,2)\n",
    "    arr_img = Image(mean_exp1, vox2mni(np.eye(4)))#Image from array\n",
    "    newimg = save_image(arr_img, Mouse_ID+'_m0_CO2.nii')\n",
    "    mask_PLD_0000 = compute_mask(load_image(Mouse_ID+'_m0_CO2.nii').get_data(), reference_volume=None, m=m ,M=M, cc=False, opening=0, exclude_zeros=True)\n",
    "    PLD_masks[:,:] = mask_PLD_0000[:,:,0]"
   ]
  },
  {
   "cell_type": "code",
   "execution_count": 20,
   "metadata": {
    "collapsed": false
   },
   "outputs": [],
   "source": [
    "# else\n",
    "if os.path.exists('pymask_sl1.mat') == False:\n",
    "    eng = matlab.engine.start_matlab()\n",
    "    eng.pymask(f_base+CO2_num+'.hdr',1,'pymask_sl1.mat','analyze');\n",
    "    eng.quit()"
   ]
  },
  {
   "cell_type": "code",
   "execution_count": 8,
   "metadata": {
    "collapsed": true
   },
   "outputs": [],
   "source": []
  },
  {
   "cell_type": "code",
   "execution_count": null,
   "metadata": {
    "collapsed": true
   },
   "outputs": [],
   "source": []
  }
 ],
 "metadata": {
  "kernelspec": {
   "display_name": "Python 3",
   "language": "python",
   "name": "python3"
  },
  "language_info": {
   "codemirror_mode": {
    "name": "ipython",
    "version": 3
   },
   "file_extension": ".py",
   "mimetype": "text/x-python",
   "name": "python",
   "nbconvert_exporter": "python",
   "pygments_lexer": "ipython3",
   "version": "3.4.5"
  }
 },
 "nbformat": 4,
 "nbformat_minor": 2
}
