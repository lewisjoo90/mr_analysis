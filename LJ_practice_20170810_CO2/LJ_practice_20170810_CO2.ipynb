{
 "cells": [
  {
   "cell_type": "code",
   "execution_count": 18,
   "metadata": {
    "collapsed": false
   },
   "outputs": [
    {
     "name": "stdout",
     "output_type": "stream",
     "text": [
      "ac\n"
     ]
    }
   ],
   "source": [
    "import numpy as np\n",
    "import scipy as sp\n",
    "import scipy.io as sio\n",
    "from scipy import ndimage\n",
    "import scipy.stats\n",
    "import matplotlib.pyplot as plt\n",
    "from matplotlib_scalebar.scalebar import ScaleBar\n",
    "import nipy\n",
    "import nibabel #For various neuroimaging filetypes\n",
    "from nibabel.analyze import load #load the image\n",
    "from nipy import save_image\n",
    "from nipy import load_image\n",
    "from nipy.core.api import Image, vox2mni\n",
    "import matlab.engine\n",
    "import os.path\n",
    "\n",
    "#from pCASL import mPLD_fitParkes, Parkes_fits, mPLD_getParams\n",
    "\n",
    "%matplotlib inline\n",
    "print(\"ac\")"
   ]
  },
  {
   "cell_type": "code",
   "execution_count": 25,
   "metadata": {
    "collapsed": true
   },
   "outputs": [],
   "source": [
    "f_base = '20170810_143430_ljoo_mouse_20170810_01_1_2_'\n",
    "Mouse_ID = 'prac'\n",
    "T2_num = '26'\n",
    "CO2_num = '26'\n",
    "fname = f_base+CO2_num+'.hdr'"
   ]
  },
  {
   "cell_type": "code",
   "execution_count": 22,
   "metadata": {
    "collapsed": true
   },
   "outputs": [],
   "source": [
    "CO2 = np.squeeze(np.array(nibabel.analyze.load(f_name).get_data()[:,:,:,:]))"
   ]
  },
  {
   "cell_type": "code",
   "execution_count": 7,
   "metadata": {
    "collapsed": true
   },
   "outputs": [],
   "source": [
    "dim1 = np.shape(CO2)[0]\n",
    "dim2 = np.shape(CO2)[1]\n",
    "nslices = 1\n",
    "nframes = np.shape(CO2)[2]"
   ]
  },
  {
   "cell_type": "markdown",
   "metadata": {},
   "source": [
    "### Masking data"
   ]
  },
  {
   "cell_type": "code",
   "execution_count": 8,
   "metadata": {
    "collapsed": true
   },
   "outputs": [],
   "source": [
    "# if a mask already exists,\n",
    "if os.path.exists(Mouse_ID+'_m0_CO2.nii') == True:\n",
    "    from nipy.labs.mask import compute_mask\n",
    "    from nipy.core.api import Image, vox2mni\n",
    "    \n",
    "    m=0.35#35\n",
    "    M=0.875#875\n",
    "    PLD_masks = np.zeros([dim1,dim2])\n",
    "    #for i in range(0,nPLDs):\n",
    "    EPI_in = CO2\n",
    "    mean_exp1 = np.zeros([dim1,dim2,1])#take the mean of all EPI's to generate 'mean_volume'\n",
    "    mean_exp1[:,:,0]=np.mean(EPI_in,2)\n",
    "    arr_img = Image(mean_exp1, vox2mni(np.eye(4)))#Image from array\n",
    "    newimg = save_image(arr_img, Mouse_ID+'_m0_CO2.nii')\n",
    "    mask_PLD_0000 = compute_mask(load_image(Mouse_ID+'_m0_CO2.nii').get_data(), reference_volume=None, m=m ,M=M, cc=False, opening=0, exclude_zeros=True)\n",
    "    PLD_masks[:,:] = mask_PLD_0000[:,:,0]"
   ]
  },
  {
   "cell_type": "code",
   "execution_count": 9,
   "metadata": {
    "collapsed": false
   },
   "outputs": [],
   "source": [
    "# else; generate mask that encompasses grey and white matter and ventricles\n",
    "if os.path.exists('pymask_sl1.mat') == False:\n",
    "    eng = matlab.engine.start_matlab()\n",
    "    eng.pymask(fname,1,'pymask_sl1.mat','analyze');\n",
    "    eng.quit()"
   ]
  },
  {
   "cell_type": "code",
   "execution_count": 10,
   "metadata": {
    "collapsed": false
   },
   "outputs": [
    {
     "name": "stdout",
     "output_type": "stream",
     "text": [
      "[[0 0 0 ..., 0 0 0]\n",
      " [0 0 0 ..., 0 0 0]\n",
      " [0 0 0 ..., 0 0 0]\n",
      " ..., \n",
      " [0 0 0 ..., 0 0 0]\n",
      " [0 0 0 ..., 0 0 0]\n",
      " [0 0 0 ..., 0 0 0]]\n"
     ]
    }
   ],
   "source": [
    "sl1_mask = sio.loadmat('pymask_sl1.mat')\n",
    "PLD_masks = sl1_mask['mask'].T"
   ]
  },
  {
   "cell_type": "code",
   "execution_count": 11,
   "metadata": {
    "collapsed": true
   },
   "outputs": [],
   "source": [
    "# generate mask encompassing only cortical grey matter\n",
    "if os.path.exists('pymask_GM2.mat') == False:\n",
    "    eng = matlab.engine.start_matlab()\n",
    "    eng.pymask(fname,1,'pymask_GM2.mat','analyze');\n",
    "    eng.quit()\n"
   ]
  },
  {
   "cell_type": "code",
   "execution_count": 20,
   "metadata": {
    "collapsed": false
   },
   "outputs": [
    {
     "name": "stderr",
     "output_type": "stream",
     "text": [
      "/home16/isjoo/anaconda3/envs/py34/lib/python3.4/site-packages/nipy/io/files.py:145: FutureWarning: Default `strict` currently False; this will change to True in a future version of nipy\n",
      "  ni_img = nipy2nifti(img, data_dtype = io_dtype)\n"
     ]
    }
   ],
   "source": [
    "tt = np.array(sio.loadmat('pymask_GM2.mat')['mask'])\n",
    "zz = np.zeros([dim1,dim2,1])\n",
    "zz[:,:,0] = tt.T\n",
    "vox2mni(np.eye(4))\n",
    "arr_img = Image(zz, vox2mni(np.eye(4)))#Image from array\n",
    "newimg = save_image(arr_img, 'GM_mask2.nii')"
   ]
  },
  {
   "cell_type": "markdown",
   "metadata": {},
   "source": [
    "#### Pre-process the data. Motion correction + gaussian blurring."
   ]
  },
  {
   "cell_type": "code",
   "execution_count": 28,
   "metadata": {
    "collapsed": false
   },
   "outputs": [
    {
     "name": "stdout",
     "output_type": "stream",
     "text": [
      "aa\n"
     ]
    }
   ],
   "source": [
    "En = CO2_num+'_CO2'\n",
    "if os.path.exists('E'+En+'_afni') == False:\n",
    "    !mkdir {'E'+En+'_afni'}\n",
    "    \n",
    "if os.path.exists('E'+En+'_afni/EPI_Image.nii') == False:\n",
    "    sqimg = save_image(Image(load_image(fname), vox2mni(np.eye(5))), 'E'+En+'_afni/EPI_Image.nii')\n",
    "    #this needs to be fixed so it works as bash command\n",
    "    !2dImReg -input {'E'+En+'_afni/EPI_Image.nii'} -base 5 -prefix {'E'+En+'_afni/EPI_2dImReg'} -dprefix {'E'+En+'_afni/EPI_2dImReg_params'}\n",
    "\n",
    "print(\"aa\")\n"
   ]
  },
  {
   "cell_type": "code",
   "execution_count": null,
   "metadata": {
    "collapsed": true
   },
   "outputs": [],
   "source": [
    "\n",
    "\n",
    "fig = plt.figure(figsize = (10,3))\n",
    "motion_x = np.array(np.genfromtxt('E'+En+'_afni/EPI_2dImReg_params.dx'))\n",
    "motion_y = np.array(np.genfromtxt('E'+En+'_afni/EPI_2dImReg_params.dy'))\n",
    "motion_p = np.array(np.genfromtxt('E'+En+'_afni/EPI_2dImReg_params.psi'))\n",
    "ax = fig.add_subplot(1,1,1)\n",
    "plt.plot(motion_x[:,1])\n",
    "plt.plot(motion_y[:,1])\n",
    "plt.plot(motion_p[:,1])\n",
    "plt.ylim([-2,2])\n",
    "ax.set_xlabel('frame number')\n",
    "ax.set_ylabel('N voxels of motion')\n",
    "legend=plt.legend(['Motion in x','Motion in y','Rotational [degrees]'], fancybox=True,loc='best',framealpha=1)\n",
    "legend.get_frame().set_facecolor('w')\n",
    "for text in legend.get_texts():\n",
    "    plt.setp(text, color = 'k', fontweight='bold',fontsize=12)\n",
    "\n",
    "plt.show()"
   ]
  }
 ],
 "metadata": {
  "kernelspec": {
   "display_name": "Python 3",
   "language": "python",
   "name": "python3"
  },
  "language_info": {
   "codemirror_mode": {
    "name": "ipython",
    "version": 3
   },
   "file_extension": ".py",
   "mimetype": "text/x-python",
   "name": "python",
   "nbconvert_exporter": "python",
   "pygments_lexer": "ipython3",
   "version": "3.4.5"
  }
 },
 "nbformat": 4,
 "nbformat_minor": 2
}
